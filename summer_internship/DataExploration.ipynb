{
 "cells": [
  {
   "cell_type": "markdown",
   "metadata": {
    "id": "a7uS4c0dr_y_"
   },
   "source": [
    "# Notebook to explore the GIS data associated with Burial Mounds\n",
    "\n",
    "The data is available as a series of GeoTIFF images that have embedded GIS data and\n",
    "shape-files containing a set of GIS points. We need to read these and transform them\n",
    "to consistent coordinates to be able to process them.\n",
    "\n",
    "GeoTIFF images are tiff images that have embedded GIS data, usually giving their\n",
    "coordinate system and the bounds of the image. This means we can work out how to\n",
    "overlay other GIS data on them.   They can also have multiple layers of data but these\n",
    "files only have a single image that is a scan of a Soviet era map of Bulgaria.\n",
    "\n",
    "The Shape-files contain GIS data. In this case, a set of points that have been hand-labelled\n",
    "from the maps. Each point corresponds to a symbol on the map that might be a burial mound.\n",
    "Our task in this project is to train a model to find these symbols in the map. While the\n",
    "shape-files contain multiple symbols, this project will concentrate on 'Hairy brown circle'\n",
    "symbols.\n",
    "\n",
    "This notebook does some initial exploration of the data, showing how to read the files\n",
    "and transform the shapefile and geoTIFF data to the same coordinate system."
   ]
  },
  {
   "cell_type": "markdown",
   "metadata": {
    "id": "ceWzGHV3xDx0"
   },
   "source": [
    "NOTE: paths found in this notebook are absolute Google Drive paths. User may need to change the paths specific to their Google Drive paths as Google Colab notebook only works with absolute paths to one's Google Drive directories."
   ]
  },
  {
   "cell_type": "markdown",
   "metadata": {
    "id": "pIX6PlQytQJe"
   },
   "source": [
    "# Google Colab Additional Steps\n",
    "The next 2 steps are additional steps to be done when running in Google Colab. User may skip the steps if notebook is run locally.\n",
    "\n"
   ]
  },
  {
   "cell_type": "code",
   "execution_count": 1,
   "metadata": {
    "colab": {
     "base_uri": "https://localhost:8080/"
    },
    "executionInfo": {
     "elapsed": 8714,
     "status": "ok",
     "timestamp": 1703147248639,
     "user": {
      "displayName": "Rodulfo II Dela Paz Alfafara",
      "userId": "05492840954156718967"
     },
     "user_tz": -660
    },
    "id": "xIemb3zDsJCM",
    "outputId": "8cd940a8-59ea-4aa4-cddc-91938259b5ba"
   },
   "outputs": [
    {
     "name": "stdout",
     "output_type": "stream",
     "text": [
      "Requirement already satisfied: rasterio in c:\\users\\rodul\\anaconda3\\lib\\site-packages (1.3.9)\n",
      "Requirement already satisfied: affine in c:\\users\\rodul\\anaconda3\\lib\\site-packages (from rasterio) (2.4.0)\n",
      "Requirement already satisfied: attrs in c:\\users\\rodul\\anaconda3\\lib\\site-packages (from rasterio) (22.1.0)\n",
      "Requirement already satisfied: certifi in c:\\users\\rodul\\anaconda3\\lib\\site-packages (from rasterio) (2023.11.17)\n",
      "Requirement already satisfied: click>=4.0 in c:\\users\\rodul\\anaconda3\\lib\\site-packages (from rasterio) (8.0.4)\n",
      "Requirement already satisfied: cligj>=0.5 in c:\\users\\rodul\\anaconda3\\lib\\site-packages (from rasterio) (0.7.2)\n",
      "Requirement already satisfied: numpy in c:\\users\\rodul\\anaconda3\\lib\\site-packages (from rasterio) (1.24.3)\n",
      "Requirement already satisfied: snuggs>=1.4.1 in c:\\users\\rodul\\anaconda3\\lib\\site-packages (from rasterio) (1.4.7)\n",
      "Requirement already satisfied: click-plugins in c:\\users\\rodul\\anaconda3\\lib\\site-packages (from rasterio) (1.1.1)\n",
      "Requirement already satisfied: setuptools in c:\\users\\rodul\\anaconda3\\lib\\site-packages (from rasterio) (68.0.0)\n",
      "Requirement already satisfied: colorama in c:\\users\\rodul\\anaconda3\\lib\\site-packages (from click>=4.0->rasterio) (0.4.6)\n",
      "Requirement already satisfied: pyparsing>=2.1.6 in c:\\users\\rodul\\anaconda3\\lib\\site-packages (from snuggs>=1.4.1->rasterio) (3.0.9)\n"
     ]
    }
   ],
   "source": [
    "#installing the following packages since when run in Google Colab, we have to install on each runtime\n",
    "!pip install rasterio\n"
   ]
  },
  {
   "cell_type": "code",
   "execution_count": 2,
   "metadata": {
    "colab": {
     "base_uri": "https://localhost:8080/"
    },
    "executionInfo": {
     "elapsed": 2352,
     "status": "ok",
     "timestamp": 1703147250983,
     "user": {
      "displayName": "Rodulfo II Dela Paz Alfafara",
      "userId": "05492840954156718967"
     },
     "user_tz": -660
    },
    "id": "_ttjetwRtH6s",
    "outputId": "08ab313a-a73a-4b83-e102-e91c59831be4"
   },
   "outputs": [
    {
     "ename": "ModuleNotFoundError",
     "evalue": "No module named 'google.colab'",
     "output_type": "error",
     "traceback": [
      "\u001b[1;31m---------------------------------------------------------------------------\u001b[0m",
      "\u001b[1;31mModuleNotFoundError\u001b[0m                       Traceback (most recent call last)",
      "Cell \u001b[1;32mIn[2], line 2\u001b[0m\n\u001b[0;32m      1\u001b[0m \u001b[38;5;66;03m#mounted my google drive where the dataset is located\u001b[39;00m\n\u001b[1;32m----> 2\u001b[0m \u001b[38;5;28;01mfrom\u001b[39;00m \u001b[38;5;21;01mgoogle\u001b[39;00m\u001b[38;5;21;01m.\u001b[39;00m\u001b[38;5;21;01mcolab\u001b[39;00m \u001b[38;5;28;01mimport\u001b[39;00m drive\n\u001b[0;32m      3\u001b[0m drive\u001b[38;5;241m.\u001b[39mmount(\u001b[38;5;124m'\u001b[39m\u001b[38;5;124m/content/drive\u001b[39m\u001b[38;5;124m'\u001b[39m)\n",
      "\u001b[1;31mModuleNotFoundError\u001b[0m: No module named 'google.colab'"
     ]
    }
   ],
   "source": [
    "#mounted my google drive where the dataset is located\n",
    "from google.colab import drive\n",
    "drive.mount('/content/drive')"
   ]
  },
  {
   "cell_type": "code",
   "execution_count": 3,
   "metadata": {
    "id": "5Rte7byAr_zC"
   },
   "outputs": [],
   "source": [
    "#imported necessary packages\n",
    "import geopandas as gpd\n",
    "import pandas as pd\n",
    "import numpy as np\n",
    "import matplotlib.pyplot as plt\n",
    "import rasterio\n",
    "import os\n",
    "from shapely.geometry import box\n"
   ]
  },
  {
   "cell_type": "code",
   "execution_count": 4,
   "metadata": {
    "colab": {
     "base_uri": "https://localhost:8080/",
     "height": 533
    },
    "executionInfo": {
     "elapsed": 8843,
     "status": "ok",
     "timestamp": 1703147259823,
     "user": {
      "displayName": "Rodulfo II Dela Paz Alfafara",
      "userId": "05492840954156718967"
     },
     "user_tz": -660
    },
    "id": "p26sUAFnr_zE",
    "outputId": "83792c3a-812b-4258-bf2a-af135081c28d"
   },
   "outputs": [
    {
     "ename": "DriverError",
     "evalue": "'/content/drive/MyDrive/Colab Notebooks/summer_internship/data/shapefiles/MapMounds4326.shp' does not exist in the file system, and is not recognized as a supported dataset name.",
     "output_type": "error",
     "traceback": [
      "\u001b[1;31m---------------------------------------------------------------------------\u001b[0m",
      "\u001b[1;31mCPLE_OpenFailedError\u001b[0m                      Traceback (most recent call last)",
      "File \u001b[1;32mfiona\\\\ogrext.pyx:136\u001b[0m, in \u001b[0;36mfiona.ogrext.gdal_open_vector\u001b[1;34m()\u001b[0m\n",
      "File \u001b[1;32mfiona\\\\_err.pyx:291\u001b[0m, in \u001b[0;36mfiona._err.exc_wrap_pointer\u001b[1;34m()\u001b[0m\n",
      "\u001b[1;31mCPLE_OpenFailedError\u001b[0m: '/content/drive/MyDrive/Colab Notebooks/summer_internship/data/shapefiles/MapMounds4326.shp' does not exist in the file system, and is not recognized as a supported dataset name.",
      "\nDuring handling of the above exception, another exception occurred:\n",
      "\u001b[1;31mDriverError\u001b[0m                               Traceback (most recent call last)",
      "Cell \u001b[1;32mIn[4], line 2\u001b[0m\n\u001b[0;32m      1\u001b[0m shapefile_path \u001b[38;5;241m=\u001b[39m \u001b[38;5;124m'\u001b[39m\u001b[38;5;124m/content/drive/MyDrive/Colab Notebooks/summer_internship/data/shapefiles/MapMounds4326.shp\u001b[39m\u001b[38;5;124m'\u001b[39m\n\u001b[1;32m----> 2\u001b[0m gdf \u001b[38;5;241m=\u001b[39m \u001b[43mgpd\u001b[49m\u001b[38;5;241;43m.\u001b[39;49m\u001b[43mread_file\u001b[49m\u001b[43m(\u001b[49m\u001b[43mshapefile_path\u001b[49m\u001b[43m)\u001b[49m\n\u001b[0;32m      3\u001b[0m gdf\u001b[38;5;241m.\u001b[39mhead()\n",
      "File \u001b[1;32m~\\anaconda3\\lib\\site-packages\\geopandas\\io\\file.py:297\u001b[0m, in \u001b[0;36m_read_file\u001b[1;34m(filename, bbox, mask, rows, engine, **kwargs)\u001b[0m\n\u001b[0;32m    294\u001b[0m     \u001b[38;5;28;01melse\u001b[39;00m:\n\u001b[0;32m    295\u001b[0m         path_or_bytes \u001b[38;5;241m=\u001b[39m filename\n\u001b[1;32m--> 297\u001b[0m     \u001b[38;5;28;01mreturn\u001b[39;00m _read_file_fiona(\n\u001b[0;32m    298\u001b[0m         path_or_bytes, from_bytes, bbox\u001b[38;5;241m=\u001b[39mbbox, mask\u001b[38;5;241m=\u001b[39mmask, rows\u001b[38;5;241m=\u001b[39mrows, \u001b[38;5;241m*\u001b[39m\u001b[38;5;241m*\u001b[39mkwargs\n\u001b[0;32m    299\u001b[0m     )\n\u001b[0;32m    301\u001b[0m \u001b[38;5;28;01melse\u001b[39;00m:\n\u001b[0;32m    302\u001b[0m     \u001b[38;5;28;01mraise\u001b[39;00m \u001b[38;5;167;01mValueError\u001b[39;00m(\u001b[38;5;124mf\u001b[39m\u001b[38;5;124m\"\u001b[39m\u001b[38;5;124munknown engine \u001b[39m\u001b[38;5;124m'\u001b[39m\u001b[38;5;132;01m{\u001b[39;00mengine\u001b[38;5;132;01m}\u001b[39;00m\u001b[38;5;124m'\u001b[39m\u001b[38;5;124m\"\u001b[39m)\n",
      "File \u001b[1;32m~\\anaconda3\\lib\\site-packages\\geopandas\\io\\file.py:338\u001b[0m, in \u001b[0;36m_read_file_fiona\u001b[1;34m(path_or_bytes, from_bytes, bbox, mask, rows, where, **kwargs)\u001b[0m\n\u001b[0;32m    335\u001b[0m     reader \u001b[38;5;241m=\u001b[39m fiona\u001b[38;5;241m.\u001b[39mopen\n\u001b[0;32m    337\u001b[0m \u001b[38;5;28;01mwith\u001b[39;00m fiona_env():\n\u001b[1;32m--> 338\u001b[0m     \u001b[38;5;28;01mwith\u001b[39;00m reader(path_or_bytes, \u001b[38;5;241m*\u001b[39m\u001b[38;5;241m*\u001b[39mkwargs) \u001b[38;5;28;01mas\u001b[39;00m features:\n\u001b[0;32m    339\u001b[0m         crs \u001b[38;5;241m=\u001b[39m features\u001b[38;5;241m.\u001b[39mcrs_wkt\n\u001b[0;32m    340\u001b[0m         \u001b[38;5;66;03m# attempt to get EPSG code\u001b[39;00m\n",
      "File \u001b[1;32m~\\anaconda3\\lib\\site-packages\\fiona\\env.py:457\u001b[0m, in \u001b[0;36mensure_env_with_credentials.<locals>.wrapper\u001b[1;34m(*args, **kwds)\u001b[0m\n\u001b[0;32m    454\u001b[0m     session \u001b[38;5;241m=\u001b[39m DummySession()\n\u001b[0;32m    456\u001b[0m \u001b[38;5;28;01mwith\u001b[39;00m env_ctor(session\u001b[38;5;241m=\u001b[39msession):\n\u001b[1;32m--> 457\u001b[0m     \u001b[38;5;28;01mreturn\u001b[39;00m f(\u001b[38;5;241m*\u001b[39margs, \u001b[38;5;241m*\u001b[39m\u001b[38;5;241m*\u001b[39mkwds)\n",
      "File \u001b[1;32m~\\anaconda3\\lib\\site-packages\\fiona\\__init__.py:319\u001b[0m, in \u001b[0;36mopen\u001b[1;34m(fp, mode, driver, schema, crs, encoding, layer, vfs, enabled_drivers, crs_wkt, allow_unsupported_drivers, **kwargs)\u001b[0m\n\u001b[0;32m    316\u001b[0m     path \u001b[38;5;241m=\u001b[39m parse_path(fp)\n\u001b[0;32m    318\u001b[0m \u001b[38;5;28;01mif\u001b[39;00m mode \u001b[38;5;129;01min\u001b[39;00m (\u001b[38;5;124m\"\u001b[39m\u001b[38;5;124ma\u001b[39m\u001b[38;5;124m\"\u001b[39m, \u001b[38;5;124m\"\u001b[39m\u001b[38;5;124mr\u001b[39m\u001b[38;5;124m\"\u001b[39m):\n\u001b[1;32m--> 319\u001b[0m     colxn \u001b[38;5;241m=\u001b[39m Collection(\n\u001b[0;32m    320\u001b[0m         path,\n\u001b[0;32m    321\u001b[0m         mode,\n\u001b[0;32m    322\u001b[0m         driver\u001b[38;5;241m=\u001b[39mdriver,\n\u001b[0;32m    323\u001b[0m         encoding\u001b[38;5;241m=\u001b[39mencoding,\n\u001b[0;32m    324\u001b[0m         layer\u001b[38;5;241m=\u001b[39mlayer,\n\u001b[0;32m    325\u001b[0m         enabled_drivers\u001b[38;5;241m=\u001b[39menabled_drivers,\n\u001b[0;32m    326\u001b[0m         allow_unsupported_drivers\u001b[38;5;241m=\u001b[39mallow_unsupported_drivers,\n\u001b[0;32m    327\u001b[0m         \u001b[38;5;241m*\u001b[39m\u001b[38;5;241m*\u001b[39mkwargs\n\u001b[0;32m    328\u001b[0m     )\n\u001b[0;32m    329\u001b[0m \u001b[38;5;28;01melif\u001b[39;00m mode \u001b[38;5;241m==\u001b[39m \u001b[38;5;124m\"\u001b[39m\u001b[38;5;124mw\u001b[39m\u001b[38;5;124m\"\u001b[39m:\n\u001b[0;32m    330\u001b[0m     colxn \u001b[38;5;241m=\u001b[39m Collection(\n\u001b[0;32m    331\u001b[0m         path,\n\u001b[0;32m    332\u001b[0m         mode,\n\u001b[1;32m   (...)\u001b[0m\n\u001b[0;32m    341\u001b[0m         \u001b[38;5;241m*\u001b[39m\u001b[38;5;241m*\u001b[39mkwargs\n\u001b[0;32m    342\u001b[0m     )\n",
      "File \u001b[1;32m~\\anaconda3\\lib\\site-packages\\fiona\\collection.py:243\u001b[0m, in \u001b[0;36mCollection.__init__\u001b[1;34m(self, path, mode, driver, schema, crs, encoding, layer, vsi, archive, enabled_drivers, crs_wkt, ignore_fields, ignore_geometry, include_fields, wkt_version, allow_unsupported_drivers, **kwargs)\u001b[0m\n\u001b[0;32m    241\u001b[0m \u001b[38;5;28;01mif\u001b[39;00m \u001b[38;5;28mself\u001b[39m\u001b[38;5;241m.\u001b[39mmode \u001b[38;5;241m==\u001b[39m \u001b[38;5;124m\"\u001b[39m\u001b[38;5;124mr\u001b[39m\u001b[38;5;124m\"\u001b[39m:\n\u001b[0;32m    242\u001b[0m     \u001b[38;5;28mself\u001b[39m\u001b[38;5;241m.\u001b[39msession \u001b[38;5;241m=\u001b[39m Session()\n\u001b[1;32m--> 243\u001b[0m     \u001b[38;5;28mself\u001b[39m\u001b[38;5;241m.\u001b[39msession\u001b[38;5;241m.\u001b[39mstart(\u001b[38;5;28mself\u001b[39m, \u001b[38;5;241m*\u001b[39m\u001b[38;5;241m*\u001b[39mkwargs)\n\u001b[0;32m    244\u001b[0m \u001b[38;5;28;01melif\u001b[39;00m \u001b[38;5;28mself\u001b[39m\u001b[38;5;241m.\u001b[39mmode \u001b[38;5;129;01min\u001b[39;00m (\u001b[38;5;124m\"\u001b[39m\u001b[38;5;124ma\u001b[39m\u001b[38;5;124m\"\u001b[39m, \u001b[38;5;124m\"\u001b[39m\u001b[38;5;124mw\u001b[39m\u001b[38;5;124m\"\u001b[39m):\n\u001b[0;32m    245\u001b[0m     \u001b[38;5;28mself\u001b[39m\u001b[38;5;241m.\u001b[39msession \u001b[38;5;241m=\u001b[39m WritingSession()\n",
      "File \u001b[1;32mfiona\\\\ogrext.pyx:588\u001b[0m, in \u001b[0;36mfiona.ogrext.Session.start\u001b[1;34m()\u001b[0m\n",
      "File \u001b[1;32mfiona\\\\ogrext.pyx:143\u001b[0m, in \u001b[0;36mfiona.ogrext.gdal_open_vector\u001b[1;34m()\u001b[0m\n",
      "\u001b[1;31mDriverError\u001b[0m: '/content/drive/MyDrive/Colab Notebooks/summer_internship/data/shapefiles/MapMounds4326.shp' does not exist in the file system, and is not recognized as a supported dataset name."
     ]
    }
   ],
   "source": [
    "shapefile_path = '/content/drive/MyDrive/Colab Notebooks/summer_internship/data/shapefiles/MapMounds4326.shp'\n",
    "gdf = gpd.read_file(shapefile_path)\n",
    "gdf.head()"
   ]
  },
  {
   "cell_type": "code",
   "execution_count": null,
   "metadata": {
    "colab": {
     "base_uri": "https://localhost:8080/"
    },
    "executionInfo": {
     "elapsed": 9,
     "status": "ok",
     "timestamp": 1703147259824,
     "user": {
      "displayName": "Rodulfo II Dela Paz Alfafara",
      "userId": "05492840954156718967"
     },
     "user_tz": -660
    },
    "id": "7Vx-Ojf4r_zM",
    "outputId": "12ab6dc6-5129-4b74-d3ff-254234443904"
   },
   "outputs": [],
   "source": [
    "gdf.iloc[0]"
   ]
  },
  {
   "cell_type": "code",
   "execution_count": null,
   "metadata": {
    "colab": {
     "base_uri": "https://localhost:8080/"
    },
    "executionInfo": {
     "elapsed": 7,
     "status": "ok",
     "timestamp": 1703147259824,
     "user": {
      "displayName": "Rodulfo II Dela Paz Alfafara",
      "userId": "05492840954156718967"
     },
     "user_tz": -660
    },
    "id": "3GK32P5Vr_zM",
    "outputId": "611cfba5-0c88-49d9-b178-e962b3dca62c"
   },
   "outputs": [],
   "source": [
    "gdf.MpSymbl.unique()"
   ]
  },
  {
   "cell_type": "code",
   "execution_count": null,
   "metadata": {
    "colab": {
     "base_uri": "https://localhost:8080/"
    },
    "executionInfo": {
     "elapsed": 6,
     "status": "ok",
     "timestamp": 1703147259824,
     "user": {
      "displayName": "Rodulfo II Dela Paz Alfafara",
      "userId": "05492840954156718967"
     },
     "user_tz": -660
    },
    "id": "-xrx1kbqr_zN",
    "outputId": "f76557c1-fa1c-474d-8665-815069c28e2f"
   },
   "outputs": [],
   "source": [
    "gdf.MpSymbl.value_counts()"
   ]
  },
  {
   "cell_type": "code",
   "execution_count": null,
   "metadata": {
    "id": "6EyJg607r_zN"
   },
   "outputs": [],
   "source": [
    "# we will just keep the Hairy brown circles\n",
    "gdf = gdf[gdf.MpSymbl == 'Hairy brown circle']"
   ]
  },
  {
   "cell_type": "markdown",
   "metadata": {
    "id": "oGvk-U1xr_zN"
   },
   "source": [
    "### Next step basically does this.\n",
    "\n",
    "1. Iterates through the directory and read all image tiff files (MAPS), more accurately rasters. Raster consists of a matrix of cells (or pixels) organized into rows and columns (or a grid) where each cell contains a value representing information. Transformation of coordinate systems require raster image files and gis files/dataframes.\n",
    "\n",
    "2. For every image of a map, the gis file (gdf) is transformed to match the coordinate system of the image.\n",
    "\n",
    "3. The transformed gdf is then filtered. Retaining only the points within the current map image. So we will be left with a gdf that consists only of hairy brown circle points that meet the longitude latitude bounds of the current map image.\n",
    "\n",
    "4. Filtered GDF are now plotted on top of the images and represented as red circles. Encircling the hairy brown circles."
   ]
  },
  {
   "cell_type": "code",
   "execution_count": null,
   "metadata": {
    "colab": {
     "base_uri": "https://localhost:8080/",
     "height": 1000,
     "output_embedded_package_id": "1ObNKOUIEG_Ygaj1nhH0IMW_RnurAPiSf"
    },
    "executionInfo": {
     "elapsed": 30786,
     "status": "ok",
     "timestamp": 1703147290605,
     "user": {
      "displayName": "Rodulfo II Dela Paz Alfafara",
      "userId": "05492840954156718967"
     },
     "user_tz": -660
    },
    "id": "W9wBQS6qr_zO",
    "outputId": "79e20043-3025-4707-f098-d1da21b62f55"
   },
   "outputs": [],
   "source": [
    "from rasterio.warp import transform_bounds\n",
    "geotiff_dir = '/content/drive/MyDrive/Colab Notebooks/summer_internship/data/YambolGIS/Training32635'\n",
    "\n",
    "for filename in os.listdir(geotiff_dir):\n",
    "    if filename.endswith('.tif'):\n",
    "        geotiff_path = os.path.join(geotiff_dir, filename)\n",
    "        with rasterio.open(geotiff_path) as src:\n",
    "            img_data = src.read()\n",
    "            # transpose the image data to make it suitable for plotting\n",
    "            img_data = np.transpose(img_data, (1, 2, 0))\n",
    "\n",
    "            # transform the shapefile data into the coordinate system of this image\n",
    "            gdf_t = gdf.to_crs(src.crs)\n",
    "            print(filename, ':', src.bounds)\n",
    "            bbox = box(src.bounds.left, src.bounds.bottom, src.bounds.right, src.bounds.top)\n",
    "            # find the points that are inside the bounds of this image\n",
    "            gdf_within_bounds = gdf_t[gdf_t.geometry.within(bbox)]\n",
    "            print('points within bounds: ', gdf_within_bounds.shape[0])\n",
    "\n",
    "            # now plot the image and shapefile data\n",
    "            fig, ax = plt.subplots(figsize=(20, 20))\n",
    "            ax.imshow(img_data, extent=[src.bounds.left, src.bounds.right, src.bounds.bottom, src.bounds.top])\n",
    "            gdf_within_bounds.plot(ax=ax, facecolor='none', edgecolor='red')\n",
    "            plt.show()\n"
   ]
  },
  {
   "cell_type": "code",
   "execution_count": null,
   "metadata": {
    "id": "CbS9OOBMr_zP"
   },
   "outputs": [],
   "source": []
  }
 ],
 "metadata": {
  "colab": {
   "provenance": []
  },
  "kernelspec": {
   "display_name": "Python 3 (ipykernel)",
   "language": "python",
   "name": "python3"
  },
  "language_info": {
   "codemirror_mode": {
    "name": "ipython",
    "version": 3
   },
   "file_extension": ".py",
   "mimetype": "text/x-python",
   "name": "python",
   "nbconvert_exporter": "python",
   "pygments_lexer": "ipython3",
   "version": "3.9.13"
  }
 },
 "nbformat": 4,
 "nbformat_minor": 1
}
