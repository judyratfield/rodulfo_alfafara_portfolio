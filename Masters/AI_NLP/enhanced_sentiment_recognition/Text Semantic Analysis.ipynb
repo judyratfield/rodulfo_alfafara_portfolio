{
 "cells": [
  {
   "cell_type": "markdown",
   "id": "1dfe5c79",
   "metadata": {},
   "source": [
    "# Text Context Analysis\n",
    "This notebook deals with the text context analysis part of the proposed solution."
   ]
  },
  {
   "cell_type": "code",
   "execution_count": 1,
   "id": "f6a32183",
   "metadata": {},
   "outputs": [
    {
     "name": "stdout",
     "output_type": "stream",
     "text": [
      "pygame 2.5.2 (SDL 2.28.3, Python 3.11.7)\n",
      "Hello from the pygame community. https://www.pygame.org/contribute.html\n"
     ]
    }
   ],
   "source": [
    "#imported necessary packages\n",
    "from pydub import AudioSegment\n",
    "import pygame\n",
    "from transformers import pipeline\n",
    "import logging\n",
    "import ffmpeg"
   ]
  },
  {
   "cell_type": "code",
   "execution_count": 2,
   "id": "f5195b27",
   "metadata": {},
   "outputs": [],
   "source": [
    "#defined function that plays an audio file\n",
    "\n",
    "def play_audio(file_path):\n",
    "    pygame.init()\n",
    "    pygame.mixer.init()\n",
    "    try:\n",
    "        pygame.mixer.music.load(file_path)#loads the audio file\n",
    "        pygame.mixer.music.play()#plays the audio file\n",
    "        while pygame.mixer.music.get_busy():#waits until the audio playback is finished before continuing with the rest of the program\n",
    "            pygame.time.Clock().tick(10)\n",
    "    except pygame.error as e:\n",
    "        print(\"Error occurred while playing audio:\", e) #prints an error message should the program fails to be executed\n",
    "    pygame.quit()"
   ]
  },
  {
   "cell_type": "code",
   "execution_count": 3,
   "id": "f35ed8c9",
   "metadata": {},
   "outputs": [],
   "source": [
    "#defined function that can play audio through the speakers (or headphones)\n",
    "\n",
    "def play(input_file):\n",
    "    #called function that plays the newly converted wav audio file\n",
    "    play_audio(input_file)\n",
    "    "
   ]
  },
  {
   "cell_type": "code",
   "execution_count": 5,
   "id": "9fc935a3",
   "metadata": {},
   "outputs": [
    {
     "name": "stdout",
     "output_type": "stream",
     "text": [
      "WARNING:tensorflow:From C:\\Users\\rodul\\anaconda3\\Lib\\site-packages\\tf_keras\\src\\losses.py:2976: The name tf.losses.sparse_softmax_cross_entropy is deprecated. Please use tf.compat.v1.losses.sparse_softmax_cross_entropy instead.\n",
      "\n"
     ]
    },
    {
     "name": "stderr",
     "output_type": "stream",
     "text": [
      "Special tokens have been added in the vocabulary, make sure the associated word embeddings are fine-tuned or trained.\n"
     ]
    }
   ],
   "source": [
    "#Using pipeline, created a transcriber that when called, converts an audio file and transcribes it into text\n",
    "transcriber = pipeline(task=\"automatic-speech-recognition\", model=\"openai/whisper-small\")"
   ]
  },
  {
   "cell_type": "code",
   "execution_count": 8,
   "id": "e0d10e86",
   "metadata": {},
   "outputs": [],
   "source": [
    "#Configures logging to write logs to a file named transcript.log\n",
    "logging.basicConfig(filename='transcript.log', level=logging.INFO, format='%(asctime)s - %(levelname)s - %(message)s')\n",
    "\n",
    "#defined a function that would utilize the transcriber\n",
    "def transcribe(input_file):\n",
    "    print(\"Transcribing. Please wait...\")\n",
    "    try:\n",
    "        transcript = transcriber(input_file)#calls the transcriber\n",
    "        logging.info(\"Transcript: %s\", transcript)  #Logs the transcript\n",
    "        print(\"Transcript:\", transcript)  #Prints the transcript\n",
    "    except Exception as e:#should transcriber fail, the messages below will be displayed and the user will be prompted to enter transcript manually\n",
    "        logging.error(\"Error occurred: %s\", e)  # Log the error\n",
    "        print(\"Error occurred:\", e)  # Print the error message\n",
    "\n",
    "    return transcript\n"
   ]
  },
  {
   "cell_type": "code",
   "execution_count": 9,
   "id": "ce3af980",
   "metadata": {},
   "outputs": [],
   "source": [
    "#This approach uses the badmatr11x/distilroberta-base-offensive-hateful-speech-text-multiclassification model instead of the\n",
    "##cardiffnlp/twitter-roberta-base-sentiment-latest model\n",
    "# #defined function that determines whether a customer is angry or not\n",
    "\n",
    "# def is_caller_angry(input_file):\n",
    "#     #called transcribe function\n",
    "#     transcript = transcribe(input_file)\n",
    "    \n",
    "#     #Used pipeline for sentiment analysis using distilroberta fine-tuned on offensive/hateful dataset since our focus is on angry customers\n",
    "#     from transformers import pipeline\n",
    "\n",
    "#     classify_sentiment = pipeline(\"text-classification\", \n",
    "#                                   model=\"badmatr11x/distilroberta-base-offensive-hateful-speech-text-multiclassification\")\n",
    "\n",
    "#     try:\n",
    "#         sentiment = classify_sentiment(transcript['text'])\n",
    "#         score = sentiment[0]['score'] #assigns score to score variable\n",
    "\n",
    "#     except:\n",
    "#         sentiment = 'negative'\n",
    "\n",
    "#     #extracts the label from the sentiment\n",
    "#     try:\n",
    "#         sentiment_label = sentiment[0]['label']\n",
    "#     except:\n",
    "#         sentiment_label = sentiment\n",
    "\n",
    "#     if sentiment_label != 'NEITHER':#because other labels are indicative of anger\n",
    "#         #if this condition is met, then statement should be considered to be coming from someone who is angry\n",
    "\n",
    "#         print(\"User is angry.\")       \n",
    "\n",
    "#     else:\n",
    "#         print(\"User is calm.\")\n",
    "\n",
    "\n",
    "#     return sentiment_label\n",
    "    "
   ]
  },
  {
   "cell_type": "code",
   "execution_count": 9,
   "id": "7ba61bfd",
   "metadata": {},
   "outputs": [],
   "source": [
    "#defined function that determines whether a customer is angry or not\n",
    "\n",
    "def is_caller_angry(input_file):\n",
    "    #called transcribe function\n",
    "    transcript = transcribe(input_file)\n",
    "    \n",
    "    #Used pipeline for sentiment analysis \n",
    "    from transformers import pipeline\n",
    "    \n",
    "    classify_sentiment = pipeline(\"text-classification\", model=\"cardiffnlp/twitter-roberta-base-sentiment-latest\")\n",
    "\n",
    "    try:\n",
    "        sentiment = classify_sentiment(transcript['text'])\n",
    "        score = sentiment[0]['score'] #assigns score to score variable\n",
    "\n",
    "    except:\n",
    "        sentiment = 'negative'\n",
    "\n",
    "    #extracts the label from the sentiment\n",
    "    try:\n",
    "        sentiment_label = sentiment[0]['label']\n",
    "    except:\n",
    "        sentiment_label = sentiment\n",
    "\n",
    "    if sentiment_label == 'negative':\n",
    "        #if this condition is met, then statement should be considered to be coming from someone who is angry\n",
    "\n",
    "        print(\"User is angry.\")       \n",
    "\n",
    "    else:\n",
    "        print(\"User is calm.\")\n",
    "\n",
    "\n",
    "    return sentiment_label\n",
    "    "
   ]
  }
 ],
 "metadata": {
  "kernelspec": {
   "display_name": "Python 3 (ipykernel)",
   "language": "python",
   "name": "python3"
  },
  "language_info": {
   "codemirror_mode": {
    "name": "ipython",
    "version": 3
   },
   "file_extension": ".py",
   "mimetype": "text/x-python",
   "name": "python",
   "nbconvert_exporter": "python",
   "pygments_lexer": "ipython3",
   "version": "3.11.7"
  }
 },
 "nbformat": 4,
 "nbformat_minor": 5
}
